{
 "cells": [
  {
   "cell_type": "code",
   "execution_count": 1,
   "metadata": {},
   "outputs": [],
   "source": [
    "%load_ext autoreload\n",
    "%autoreload 2"
   ]
  },
  {
   "cell_type": "code",
   "execution_count": 2,
   "metadata": {
    "colab": {
     "base_uri": "https://localhost:8080/",
     "height": 35
    },
    "colab_type": "code",
    "id": "yadW0ZiFWj8W",
    "outputId": "d680c4f9-cdd2-4191-8a69-0656bc5b7088"
   },
   "outputs": [],
   "source": [
    "%%capture\n",
    "import os, sys\n",
    "import time, glob\n",
    "import random\n",
    "import cv2\n",
    "import numpy as np\n",
    "from matplotlib import pyplot as plt\n",
    "import tensorflow as tf\n",
    "from keras import backend as K\n",
    "from keras.layers import *\n",
    "from keras.models import Model\n",
    "from keras.callbacks import *\n",
    "from keras.optimizers import Adam\n",
    "from keras.callbacks import ModelCheckpoint, ReduceLROnPlateau\n",
    "\n",
    "from LaneDataGenerator import LaneDataGenerator\n",
    "\n",
    "%matplotlib inline"
   ]
  },
  {
   "cell_type": "markdown",
   "metadata": {},
   "source": [
    "## DataGenerator"
   ]
  },
  {
   "cell_type": "code",
   "execution_count": 3,
   "metadata": {},
   "outputs": [],
   "source": [
    "IMAGE_HEIGHT, IMAGE_WIDTH, IMAGE_CHANNELS = 40, 120, 3\n",
    "INPUT_SHAPE = (IMAGE_HEIGHT, IMAGE_WIDTH, IMAGE_CHANNELS)\n",
    "\n",
    "data_gen = LaneDataGenerator(images_folder='./dataset/images',\n",
    "                             labels_folder='./dataset/labels',\n",
    "                             batch_size=4,\n",
    "                             input_shape=INPUT_SHAPE)"
   ]
  },
  {
   "cell_type": "markdown",
   "metadata": {},
   "source": [
    "### visualize data"
   ]
  },
  {
   "cell_type": "raw",
   "metadata": {},
   "source": [
    "Data generator return image<YUV[0., 255.]>\n",
    "and steering_angle<normalized[-1., 1.]>"
   ]
  },
  {
   "cell_type": "code",
   "execution_count": 15,
   "metadata": {},
   "outputs": [
    {
     "name": "stdout",
     "output_type": "stream",
     "text": [
      "steering_angle:  -0.5514462\n"
     ]
    },
    {
     "data": {
      "image/png": "[encoded data removed]",
      "text/plain": [
       "<Figure size 432x288 with 1 Axes>"
      ]
     },
     "metadata": {
      "needs_background": "light"
     },
     "output_type": "display_data"
    }
   ],
   "source": [
    "vis_im, vis_steering = data_gen[0]\n",
    "plt.imshow(vis_im[0].astype(np.uint8))\n",
    "print('steering_angle: ',vis_steering[0])"
   ]
  },
  {
   "cell_type": "markdown",
   "metadata": {},
   "source": [
    "## Create model"
   ]
  },
  {
   "cell_type": "code",
   "execution_count": null,
   "metadata": {
    "colab": {
     "base_uri": "https://localhost:8080/",
     "height": 110
    },
    "colab_type": "code",
    "id": "hU5Yqit9FFJ2",
    "outputId": "b8f82397-a707-4939-e844-4d76538fd641"
   },
   "outputs": [],
   "source": [
    "K.clear_session()\n",
    "\n",
    "net_in = Input(shape = INPUT_SHAPE)\n",
    "x = Lambda(lambda x: x/127.5 - 1.0)(net_in)\n",
    "x = Conv2D(24, (5, 5), strides=(2, 2),padding=\"same\", activation='elu')(x)  \n",
    "x = Conv2D(36, (5, 5), strides=(2, 2),padding=\"same\", activation='elu')(x)\n",
    "x = Conv2D(48, (5, 5), strides=(2, 2),padding=\"same\", activation='elu')(x)\n",
    "x = Conv2D(64, (3, 3), padding=\"same\",activation='elu')(x)   \n",
    "x = Conv2D(64, (3, 3), padding=\"same\",activation='elu')(x)\n",
    "\n",
    "x = Dropout(0.3)(x)\n",
    "\n",
    "x = Flatten()(x)\n",
    "\n",
    "x = Dense(100, activation='elu')(x)\n",
    "x = Dense(50, activation='elu')(x)\n",
    "x = Dense(10, activation='elu')(x) \n",
    "\n",
    "net_out = Dense(1, name='net_out')(x)\n",
    "\n",
    "model = Model(inputs=net_in, outputs=net_out)\n",
    "model.summary()"
   ]
  },
  {
   "cell_type": "markdown",
   "metadata": {},
   "source": [
    "## Train"
   ]
  },
  {
   "cell_type": "code",
   "execution_count": null,
   "metadata": {
    "colab": {
     "base_uri": "https://localhost:8080/",
     "height": 1000
    },
    "colab_type": "code",
    "id": "4jmGkfWTXAm9",
    "outputId": "5f72f9e1-e3f8-49a8-d256-f70fb7affd0b"
   },
   "outputs": [],
   "source": [
    "model.compile(loss='mse', optimizer=Adam(lr=0.001))"
   ]
  },
  {
   "cell_type": "code",
   "execution_count": null,
   "metadata": {
    "colab": {
     "base_uri": "https://localhost:8080/",
     "height": 54
    },
    "colab_type": "code",
    "id": "2wKE26JtXJ4a",
    "outputId": "32d6dfd1-0d8a-468c-d5bf-9b577e644cf7"
   },
   "outputs": [],
   "source": [
    "filepath = (\"./checkpoints/LaneDetector{epoch:03d}-{loss:.3f}.h5\")\n",
    "checkpoint = ModelCheckpoint(filepath, save_weights_only=False)\n",
    "reduce_lr = ReduceLROnPlateau(monitor='loss', patience=5, factor=0.5, verbose=1, mode='min')\n",
    "\n",
    "history = model.fit_generator(\n",
    "        data_gen, \n",
    "        steps_per_epoch=10,\n",
    "        epochs=1000,        \n",
    "        initial_epoch=0,\n",
    "        callbacks=[checkpoint, reduce_lr],\n",
    "        workers=2, use_multiprocessing=False)"
   ]
  },
  {
   "cell_type": "markdown",
   "metadata": {},
   "source": [
    "## Convert to .tflite"
   ]
  },
  {
   "cell_type": "code",
   "execution_count": null,
   "metadata": {},
   "outputs": [],
   "source": [
    "converter = tf.lite.TFLiteConverter.from_keras_model_file('checkpoints/LaneDetector277-0.002.h5') \n",
    "model = converter.convert()\n",
    "file = open( 'model.tflite' , 'wb' ) \n",
    "file.write( model )\n",
    "file.close()"
   ]
  }
 ],
 "metadata": {
  "accelerator": "GPU",
  "colab": {
   "collapsed_sections": [],
   "name": "fasion_othernet.ipynb",
   "provenance": [],
   "toc_visible": true,
   "version": "0.3.2"
  },
  "kernelspec": {
   "display_name": "Python 3",
   "language": "python",
   "name": "python3"
  },
  "language_info": {
   "codemirror_mode": {
    "name": "ipython",
    "version": 3
   },
   "file_extension": ".py",
   "mimetype": "text/x-python",
   "name": "python",
   "nbconvert_exporter": "python",
   "pygments_lexer": "ipython3",
   "version": "3.7.6"
  },
  "toc": {
   "base_numbering": 1,
   "nav_menu": {},
   "number_sections": true,
   "sideBar": true,
   "skip_h1_title": false,
   "title_cell": "Table of Contents",
   "title_sidebar": "Contents",
   "toc_cell": false,
   "toc_position": {},
   "toc_section_display": true,
   "toc_window_display": true
  },
  "varInspector": {
   "cols": {
    "lenName": 16,
    "lenType": 16,
    "lenVar": 40
   },
   "kernels_config": {
    "python": {
     "delete_cmd_postfix": "",
     "delete_cmd_prefix": "del ",
     "library": "var_list.py",
     "varRefreshCmd": "print(var_dic_list())"
    },
    "r": {
     "delete_cmd_postfix": ") ",
     "delete_cmd_prefix": "rm(",
     "library": "var_list.r",
     "varRefreshCmd": "cat(var_dic_list()) "
    }
   },
   "types_to_exclude": [
    "module",
    "function",
    "builtin_function_or_method",
    "instance",
    "_Feature"
   ],
   "window_display": false
  }
 },
 "nbformat": 4,
 "nbformat_minor": 1
}
